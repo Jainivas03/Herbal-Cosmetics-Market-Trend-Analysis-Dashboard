{
 "cells": [
  {
   "cell_type": "code",
   "execution_count": 3,
   "id": "b81a3bd2",
   "metadata": {},
   "outputs": [],
   "source": [
    "import pandas as pd\n",
    "from sklearn.model_selection import train_test_split, GridSearchCV\n",
    "from sklearn.compose import ColumnTransformer\n",
    "from sklearn.preprocessing import OneHotEncoder, LabelEncoder\n",
    "from sklearn.ensemble import RandomForestClassifier\n",
    "from sklearn.feature_selection import SelectKBest, f_classif\n",
    "from sklearn.metrics import accuracy_score\n",
    "import joblib"
   ]
  },
  {
   "cell_type": "code",
   "execution_count": 4,
   "id": "1f958b67",
   "metadata": {},
   "outputs": [],
   "source": [
    "def feature_selection(X_train, y_train):\n",
    "    # Identify categorical features\n",
    "    categorical_features = X_train.select_dtypes(include=['object']).columns.tolist()\n",
    "\n",
    "    # Create a preprocessor that includes one-hot encoding for categorical features\n",
    "    preprocessor = ColumnTransformer(\n",
    "        transformers=[\n",
    "            ('cat', OneHotEncoder(), categorical_features)\n",
    "        ],\n",
    "        remainder='passthrough'  # Keep the numerical columns as they are\n",
    "    )\n",
    "\n",
    "    # Fit and transform the training data\n",
    "    X_train_transformed = preprocessor.fit_transform(X_train)\n",
    "\n",
    "    # Feature selection using SelectKBest\n",
    "    selector = SelectKBest(score_func=f_classif, k='all')  # Use 'all' or adjust 'k' as needed\n",
    "    X_train_selected = selector.fit_transform(X_train_transformed, y_train)\n",
    "\n",
    "    return X_train_selected, selector, preprocessor\n"
   ]
  },
  {
   "cell_type": "code",
   "execution_count": 5,
   "id": "288cfbfb",
   "metadata": {},
   "outputs": [],
   "source": [
    "def train_model(X_train, y_train):\n",
    "    # Initialize the RandomForestClassifier\n",
    "    model = RandomForestClassifier(random_state=42)\n",
    "\n",
    "    # Set up hyperparameters for tuning\n",
    "    param_grid = {\n",
    "        'n_estimators': [100, 200, 300],  # Number of trees\n",
    "        'max_depth': [10, 20, 30],        # Maximum depth of the trees\n",
    "        'min_samples_split': [2, 5, 10],  # Minimum samples required to split a node\n",
    "        'min_samples_leaf': [1, 2, 4],    # Minimum samples required to be at a leaf node\n",
    "        'bootstrap': [True, False]        # Whether to use bootstrap samples\n",
    "    }\n",
    "\n",
    "    # Perform GridSearchCV to find the best hyperparameters\n",
    "    grid_search = GridSearchCV(estimator=model, param_grid=param_grid, cv=3, n_jobs=-1, verbose=2)\n",
    "    grid_search.fit(X_train, y_train)\n",
    "\n",
    "    # Return the best model found by GridSearchCV\n",
    "    return grid_search.best_estimator_\n"
   ]
  },
  {
   "cell_type": "code",
   "execution_count": null,
   "id": "9b78404a",
   "metadata": {},
   "outputs": [],
   "source": [
    "def main():\n",
    "    # Load your dataset\n",
    "    df = pd.read_csv(\"dataset.csv\")  \n",
    "\n",
    "    # Prepare features (X) and target (y)\n",
    "    X = df.drop('Preferred_Product_Type', axis=1)\n",
    "    y = df['Preferred_Product_Type']\n",
    "\n",
    "    # Encode target variable as numeric values\n",
    "    label_encoder = LabelEncoder()\n",
    "    y_encoded = label_encoder.fit_transform(y)\n",
    "\n",
    "    # Train-test split\n",
    "    X_train, X_test, y_train, y_test = train_test_split(\n",
    "        X, y_encoded, test_size=0.2, random_state=42, stratify=y_encoded\n",
    "    )\n",
    "\n",
    "    # Perform feature selection\n",
    "    X_train_selected, selector, preprocessor = feature_selection(X_train, y_train)\n",
    "\n",
    "    # Train model\n",
    "    model = train_model(X_train_selected, y_train)\n",
    "\n",
    "    # Preprocess and select features for the test set\n",
    "    X_test_transformed = preprocessor.transform(X_test)\n",
    "    X_test_selected = selector.transform(X_test_transformed)\n",
    "\n",
    "    # Make predictions\n",
    "    y_pred = model.predict(X_test_selected)\n",
    "\n",
    "    # Calculate accuracy\n",
    "    accuracy = accuracy_score(y_test, y_pred)\n",
    "    print(f\"Model Accuracy: {accuracy:.2f}\")\n",
    "\n",
    "    # Save the trained model and preprocessor\n",
    "    model_filename = 'random_forest_model.pkl'\n",
    "    joblib.dump(model, model_filename)\n",
    "    print(f\"Model saved to {model_filename}\")\n",
    "\n",
    "    preprocessor_filename = 'preprocessor.pkl'\n",
    "    joblib.dump(preprocessor, preprocessor_filename)\n",
    "    print(f\"Preprocessor saved to {preprocessor_filename}\")\n"
   ]
  },
  {
   "cell_type": "code",
   "execution_count": 7,
   "id": "2a15fd07",
   "metadata": {},
   "outputs": [
    {
     "name": "stdout",
     "output_type": "stream",
     "text": [
      "Fitting 3 folds for each of 162 candidates, totalling 486 fits\n"
     ]
    },
    {
     "name": "stderr",
     "output_type": "stream",
     "text": [
      "C:\\Users\\Jainivas Anandhan\\anaconda3\\Lib\\site-packages\\numpy\\ma\\core.py:2820: RuntimeWarning: invalid value encountered in cast\n",
      "  _data = np.array(data, dtype=dtype, copy=copy,\n"
     ]
    },
    {
     "name": "stdout",
     "output_type": "stream",
     "text": [
      "Model Accuracy: 0.27\n",
      "Model saved to random_forest_model.pkl\n",
      "Preprocessor saved to preprocessor.pkl\n"
     ]
    }
   ],
   "source": [
    "if __name__ == \"__main__\":\n",
    "    main()\n"
   ]
  },
  {
   "cell_type": "code",
   "execution_count": null,
   "id": "79cb5e98",
   "metadata": {},
   "outputs": [],
   "source": []
  }
 ],
 "metadata": {
  "kernelspec": {
   "display_name": "Python 3 (ipykernel)",
   "language": "python",
   "name": "python3"
  },
  "language_info": {
   "codemirror_mode": {
    "name": "ipython",
    "version": 3
   },
   "file_extension": ".py",
   "mimetype": "text/x-python",
   "name": "python",
   "nbconvert_exporter": "python",
   "pygments_lexer": "ipython3",
   "version": "3.12.4"
  }
 },
 "nbformat": 4,
 "nbformat_minor": 5
}
